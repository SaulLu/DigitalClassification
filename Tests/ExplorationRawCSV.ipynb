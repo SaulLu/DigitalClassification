{
 "cells": [
  {
   "cell_type": "markdown",
   "metadata": {},
   "source": [
    "# Config"
   ]
  },
  {
   "cell_type": "code",
   "execution_count": 1,
   "metadata": {},
   "outputs": [],
   "source": [
    "import os"
   ]
  },
  {
   "cell_type": "markdown",
   "metadata": {},
   "source": [
    "**Change the content of the text in the path variable to store the path to the main folder**"
   ]
  },
  {
   "cell_type": "code",
   "execution_count": 2,
   "metadata": {},
   "outputs": [],
   "source": [
    "path = '/mnt/storage/Documents/CentralePa/3A/Big Data and AI/DigitalClassification/'"
   ]
  },
  {
   "cell_type": "code",
   "execution_count": 3,
   "metadata": {},
   "outputs": [],
   "source": [
    "os.chdir( path )\n",
    "os.environ[\"Root_DIR\"] = path\n",
    "\n",
    "os.environ[\"Data_DIR\"] = os.path.join(path,\"Data\")\n",
    "os.environ[\"Data_Raw\"] = os.path.join(os.environ[\"Data_DIR\"],\"Raw\")\n",
    "os.environ[\"Data_Processed\"] = os.path.join(os.environ[\"Data_DIR\"],\"Processed\")\n",
    "os.environ[\"Data_Sample_Raw\"] = os.path.join(os.environ[\"Data_DIR\"],\"Sample\",\"Raw\")\n",
    "os.environ[\"Data_Sample_Processed\"] = os.path.join(os.environ[\"Data_DIR\"],\"Sample\",\"Processed\")\n",
    "\n",
    "os.environ[\"Source_DIR\"] = os.path.join(path,\"Sources\")"
   ]
  },
  {
   "cell_type": "markdown",
   "metadata": {},
   "source": [
    "# Import File"
   ]
  },
  {
   "cell_type": "code",
   "execution_count": 4,
   "metadata": {},
   "outputs": [],
   "source": [
    "import pandas as pd"
   ]
  },
  {
   "cell_type": "code",
   "execution_count": 16,
   "metadata": {},
   "outputs": [],
   "source": [
    "file_name = \"base_apprentissage.csv\"\n",
    "file_name_sample = \"sample_base_apprentissage.csv\""
   ]
  },
  {
   "cell_type": "code",
   "execution_count": 18,
   "metadata": {},
   "outputs": [],
   "source": [
    "df_full=pd.read_csv(os.path.join(os.environ[\"Data_Raw\"],file_name))\n",
    "df_sample=pd.read_csv(os.path.join(os.environ[\"Data_Sample_Raw\"],\n",
    "                                   file_name_sample))"
   ]
  },
  {
   "cell_type": "markdown",
   "metadata": {},
   "source": [
    "# Exploration"
   ]
  },
  {
   "cell_type": "code",
   "execution_count": 8,
   "metadata": {},
   "outputs": [
    {
     "data": {
      "text/html": [
       "<div>\n",
       "<style scoped>\n",
       "    .dataframe tbody tr th:only-of-type {\n",
       "        vertical-align: middle;\n",
       "    }\n",
       "\n",
       "    .dataframe tbody tr th {\n",
       "        vertical-align: top;\n",
       "    }\n",
       "\n",
       "    .dataframe thead th {\n",
       "        text-align: right;\n",
       "    }\n",
       "</style>\n",
       "<table border=\"1\" class=\"dataframe\">\n",
       "  <thead>\n",
       "    <tr style=\"text-align: right;\">\n",
       "      <th></th>\n",
       "      <th>commentaire_brut</th>\n",
       "      <th>Motif</th>\n",
       "    </tr>\n",
       "  </thead>\n",
       "  <tbody>\n",
       "    <tr>\n",
       "      <td>0</td>\n",
       "      <td>merci de rappeler le client qui souhaite annul...</td>\n",
       "      <td>0</td>\n",
       "    </tr>\n",
       "    <tr>\n",
       "      <td>1</td>\n",
       "      <td>prt</td>\n",
       "      <td>0</td>\n",
       "    </tr>\n",
       "    <tr>\n",
       "      <td>2</td>\n",
       "      <td>cliente souhaite passé sont offre pro en r</td>\n",
       "      <td>0</td>\n",
       "    </tr>\n",
       "    <tr>\n",
       "      <td>3</td>\n",
       "      <td>demande de travaux numéro ot : 239353507 creat...</td>\n",
       "      <td>0</td>\n",
       "    </tr>\n",
       "    <tr>\n",
       "      <td>4</td>\n",
       "      <td>info demengament</td>\n",
       "      <td>0</td>\n",
       "    </tr>\n",
       "  </tbody>\n",
       "</table>\n",
       "</div>"
      ],
      "text/plain": [
       "                                    commentaire_brut  Motif\n",
       "0  merci de rappeler le client qui souhaite annul...      0\n",
       "1                                                prt      0\n",
       "2         cliente souhaite passé sont offre pro en r      0\n",
       "3  demande de travaux numéro ot : 239353507 creat...      0\n",
       "4                                   info demengament      0"
      ]
     },
     "execution_count": 8,
     "metadata": {},
     "output_type": "execute_result"
    }
   ],
   "source": [
    "df_full.head()"
   ]
  },
  {
   "cell_type": "markdown",
   "metadata": {},
   "source": [
    "Number of empty lines"
   ]
  },
  {
   "cell_type": "code",
   "execution_count": 10,
   "metadata": {},
   "outputs": [
    {
     "data": {
      "text/plain": [
       "0"
      ]
     },
     "execution_count": 10,
     "metadata": {},
     "output_type": "execute_result"
    }
   ],
   "source": [
    "df_full['commentaire_brut'].isna().sum()"
   ]
  },
  {
   "cell_type": "markdown",
   "metadata": {},
   "source": [
    "Distribution of labels on the corpus"
   ]
  },
  {
   "cell_type": "code",
   "execution_count": 12,
   "metadata": {},
   "outputs": [
    {
     "data": {
      "text/plain": [
       "0    10318\n",
       "1      682\n",
       "Name: Motif, dtype: int64"
      ]
     },
     "execution_count": 12,
     "metadata": {},
     "output_type": "execute_result"
    }
   ],
   "source": [
    "df_full['Motif'].value_counts()"
   ]
  },
  {
   "cell_type": "code",
   "execution_count": 28,
   "metadata": {},
   "outputs": [
    {
     "name": "stdout",
     "output_type": "stream",
     "text": [
      "There are 6.2 % of the comments left by professional client advisers that deal with a digitalsubject in the full dataset.\n"
     ]
    }
   ],
   "source": [
    "positif_ratio_full = 100*df_full['Motif'].value_counts()[1]/df_full.shape[0]\n",
    "print(f\"There are {round(positif_ratio_full,1)} % of the comments left by professional client advisers that deal with a digital\"\n",
    "      \"subject in the full dataset.\")"
   ]
  },
  {
   "cell_type": "code",
   "execution_count": 27,
   "metadata": {},
   "outputs": [
    {
     "name": "stdout",
     "output_type": "stream",
     "text": [
      "There are 6.6 % of the comments left by professional client advisers that deal with a digitalsubject in the sample dataset.\n"
     ]
    }
   ],
   "source": [
    "positif_ratio_sample = 100*df_sample['Motif'].value_counts()[1]/df_sample.shape[0]\n",
    "print(f\"There are {round(positif_ratio_sample,1)} % of the comments left by professional client advisers that deal with a digital\"\n",
    "      \"subject in the sample dataset.\")"
   ]
  },
  {
   "cell_type": "code",
   "execution_count": null,
   "metadata": {},
   "outputs": [],
   "source": []
  }
 ],
 "metadata": {
  "kernelspec": {
   "display_name": "Python 3",
   "language": "python",
   "name": "python3"
  },
  "language_info": {
   "codemirror_mode": {
    "name": "ipython",
    "version": 3
   },
   "file_extension": ".py",
   "mimetype": "text/x-python",
   "name": "python",
   "nbconvert_exporter": "python",
   "pygments_lexer": "ipython3",
   "version": "3.7.4"
  }
 },
 "nbformat": 4,
 "nbformat_minor": 2
}

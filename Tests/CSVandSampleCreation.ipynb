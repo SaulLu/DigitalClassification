{
 "cells": [
  {
   "cell_type": "markdown",
   "metadata": {},
   "source": [
    "# Config"
   ]
  },
  {
   "cell_type": "code",
   "execution_count": 6,
   "metadata": {},
   "outputs": [],
   "source": [
    "import os\n",
    "import sys"
   ]
  },
  {
   "cell_type": "code",
   "execution_count": 7,
   "metadata": {},
   "outputs": [
    {
     "data": {
      "text/plain": [
       "'/mnt/storage/Documents/CentralePa/3A/Big Data and AI/DigitalClassification/Exploration'"
      ]
     },
     "execution_count": 7,
     "metadata": {},
     "output_type": "execute_result"
    }
   ],
   "source": [
    "os.getcwd()"
   ]
  },
  {
   "cell_type": "code",
   "execution_count": 8,
   "metadata": {},
   "outputs": [],
   "source": [
    "path = \"/home/lucile/Documents/CentralePa/3A/Big Data and AI/DigitalClassification\""
   ]
  },
  {
   "cell_type": "code",
   "execution_count": 15,
   "metadata": {},
   "outputs": [],
   "source": [
    "os.chdir( path )\n",
    "os.environ[\"Root_DIR\"] = path\n",
    "\n",
    "os.environ[\"Data_DIR\"] = os.path.join(path,\"Data\")\n",
    "os.environ[\"Data_Raw\"] = os.path.join(os.environ[\"Data_DIR\"],\"Raw\")\n",
    "os.environ[\"Data_Processed\"] = os.path.join(os.environ[\"Data_DIR\"],\"Processed\")\n",
    "os.environ[\"Data_Sample_Raw\"] = os.path.join(os.environ[\"Data_DIR\"],\"Sample\",\"Raw\")\n",
    "os.environ[\"Data_Sample_Processed\"] = os.path.join(os.environ[\"Data_DIR\"],\"Sample\",\"Processed\")\n",
    "\n",
    "os.environ[\"Source_DIR\"] = os.path.join(path,\"Sources\")"
   ]
  },
  {
   "cell_type": "code",
   "execution_count": 16,
   "metadata": {},
   "outputs": [],
   "source": [
    "os.chdir( os.environ[\"Source_DIR\"] )\n",
    "from Utils import BasicFileCreation as BFC\n",
    "os.chdir( os.environ[\"Root_DIR\"] )"
   ]
  },
  {
   "cell_type": "markdown",
   "metadata": {},
   "source": [
    "# CSV and Sample Creation"
   ]
  },
  {
   "cell_type": "code",
   "execution_count": 19,
   "metadata": {},
   "outputs": [],
   "source": [
    "path_excel = os.path.join(os.environ[\"Data_Raw\"],\"base_apprentissage_v2.xlsx\")\n",
    "path_csv = os.path.join(os.environ[\"Data_Raw\"], \"base_apprentissage.csv\")\n",
    "path_csv_sample = os.path.join(os.environ[\"Data_Sample_Raw\"], \"sample_base_apprentissage.csv\")"
   ]
  },
  {
   "cell_type": "code",
   "execution_count": 20,
   "metadata": {},
   "outputs": [],
   "source": [
    "BFC.csvCreation(path_excel,path_csv)\n",
    "BFC.CsvSampleCreation(path_csv,path_csv_sample)"
   ]
  }
 ],
 "metadata": {
  "kernelspec": {
   "display_name": "Python 3",
   "language": "python",
   "name": "python3"
  },
  "language_info": {
   "codemirror_mode": {
    "name": "ipython",
    "version": 3
   },
   "file_extension": ".py",
   "mimetype": "text/x-python",
   "name": "python",
   "nbconvert_exporter": "python",
   "pygments_lexer": "ipython3",
   "version": "3.7.4"
  }
 },
 "nbformat": 4,
 "nbformat_minor": 2
}
